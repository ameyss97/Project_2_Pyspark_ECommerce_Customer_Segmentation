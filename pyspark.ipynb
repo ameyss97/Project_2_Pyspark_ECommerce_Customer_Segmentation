{
 "cells": [
  {
   "cell_type": "code",
   "execution_count": 1,
   "metadata": {},
   "outputs": [],
   "source": [
    "import os\n",
    "import sys\n",
    "\n",
    "os.environ[\"SPARK_HOME\"] = \"/opt/spark-3.4.0\"\n",
    "os.environ[\"PYLIB\"] = os.environ[\"SPARK_HOME\"] + \"/python/lib\"\n",
    "os.environ[\"PYSPARK_PYTHON\"] = \"/usr/bin/python3.7\"\n",
    "os.environ[\"PYSPARK_DRIVER_PYTHON\"] = \"/usr/bin/python3.7\"\n",
    "\n",
    "sys.path.insert(0, \"/usr/bin/python3.7\")\n",
    "sys.path.insert(0, os.environ[\"PYLIB\"] +\"/py4j-0.10.9.7-src.zip\")\n",
    "sys.path.insert(0, os.environ[\"PYLIB\"] +\"/pyspark.zip\")"
   ]
  },
  {
   "cell_type": "code",
   "execution_count": 2,
   "metadata": {},
   "outputs": [],
   "source": [
    "from pyspark.sql.functions import *\n",
    "from pyspark.sql.types import *\n",
    "from pyspark.sql import SparkSession"
   ]
  },
  {
   "cell_type": "markdown",
   "metadata": {},
   "source": [
    "This is a transnational data set which contains all the transactions occurring between 01/12/2010 and 09/12/2011 for a UK-based and registered non-store online retail.The company mainly sells unique all-occasion gifts. Many customers of the company are wholesalers.\n",
    "\n",
    "Customer segmentation is a marketing technique companies use  to identify and group users who display similar characteristics. For instance, if you visit Starbucks only during the summer to purchase cold beverages, you can be segmented as a “seasonal shopper” and enticed with special promotions curated for  the summer season.\n",
    "\n",
    "Data scientists usually build unsupervised machine learning algorithms such as K-Means clustering or hierarchical clustering to perform customer segmentation. These models are great at identifying similar patterns between user groups that often go unnoticed by the human eye.\n",
    "\n",
    "we will use K-Means clustering to perform customer segmentation on the e-commerce dataset "
   ]
  },
  {
   "cell_type": "code",
   "execution_count": 3,
   "metadata": {},
   "outputs": [
    {
     "name": "stderr",
     "output_type": "stream",
     "text": [
      "23/09/09 17:03:01 WARN Utils: Your hostname, user-Latitude-3420 resolves to a loopback address: 127.0.1.1; using 192.168.1.15 instead (on interface wlp44s0)\n",
      "23/09/09 17:03:01 WARN Utils: Set SPARK_LOCAL_IP if you need to bind to another address\n",
      "Setting default log level to \"WARN\".\n",
      "To adjust logging level use sc.setLogLevel(newLevel). For SparkR, use setLogLevel(newLevel).\n",
      "23/09/09 17:03:03 WARN NativeCodeLoader: Unable to load native-hadoop library for your platform... using builtin-java classes where applicable\n"
     ]
    }
   ],
   "source": [
    "# Creating Spark Session\n",
    "\n",
    "spark = SparkSession.builder.appName('Project_2_play_with_pyspark').config(\"spark.memory.offHeap.enabled\",\"true\").config(\"spark.memory.offHeap.size\",\"10g\").getOrCreate()"
   ]
  },
  {
   "cell_type": "markdown",
   "metadata": {},
   "source": [
    "Using the codes above, we built a spark session and set a name for the application. Then, the data was cached in off-heap memory to avoid storing it directly on disk, and the amount of memory was manually specified to 10GB."
   ]
  },
  {
   "cell_type": "code",
   "execution_count": 4,
   "metadata": {},
   "outputs": [
    {
     "data": {
      "text/plain": [
       "'/home/user/Desktop/Projects/Project_2'"
      ]
     },
     "execution_count": 4,
     "metadata": {},
     "output_type": "execute_result"
    }
   ],
   "source": [
    "cwd = os.getcwd()\n",
    "cwd"
   ]
  },
  {
   "cell_type": "code",
   "execution_count": 5,
   "metadata": {},
   "outputs": [
    {
     "name": "stderr",
     "output_type": "stream",
     "text": [
      "                                                                                \r"
     ]
    }
   ],
   "source": [
    "# Creating the Dataframe\n",
    "\n",
    "df = spark.read.csv(\"Online Retail.csv\", header=True)"
   ]
  },
  {
   "cell_type": "code",
   "execution_count": 6,
   "metadata": {},
   "outputs": [
    {
     "name": "stdout",
     "output_type": "stream",
     "text": [
      "+---------+---------+--------------------+--------+--------------+---------+----------+--------------+\n",
      "|InvoiceNo|StockCode|         Description|Quantity|   InvoiceDate|UnitPrice|CustomerID|       Country|\n",
      "+---------+---------+--------------------+--------+--------------+---------+----------+--------------+\n",
      "|   536365|   85123A|WHITE HANGING HEA...|       6|01/12/10 08:26|     2.55|     17850|United Kingdom|\n",
      "|   536365|    71053| WHITE METAL LANTERN|       6|01/12/10 08:26|     3.39|     17850|United Kingdom|\n",
      "|   536365|   84406B|CREAM CUPID HEART...|       8|01/12/10 08:26|     2.75|     17850|United Kingdom|\n",
      "|   536365|   84029G|KNITTED UNION FLA...|       6|01/12/10 08:26|     3.39|     17850|United Kingdom|\n",
      "|   536365|   84029E|RED WOOLLY HOTTIE...|       6|01/12/10 08:26|     3.39|     17850|United Kingdom|\n",
      "+---------+---------+--------------------+--------+--------------+---------+----------+--------------+\n",
      "only showing top 5 rows\n",
      "\n"
     ]
    }
   ],
   "source": [
    "df.show(5)"
   ]
  },
  {
   "cell_type": "code",
   "execution_count": 7,
   "metadata": {},
   "outputs": [
    {
     "name": "stdout",
     "output_type": "stream",
     "text": [
      "root\n",
      " |-- InvoiceNo: string (nullable = true)\n",
      " |-- StockCode: string (nullable = true)\n",
      " |-- Description: string (nullable = true)\n",
      " |-- Quantity: string (nullable = true)\n",
      " |-- InvoiceDate: string (nullable = true)\n",
      " |-- UnitPrice: string (nullable = true)\n",
      " |-- CustomerID: string (nullable = true)\n",
      " |-- Country: string (nullable = true)\n",
      "\n"
     ]
    }
   ],
   "source": [
    "df.printSchema()"
   ]
  },
  {
   "cell_type": "markdown",
   "metadata": {},
   "source": [
    "The dataframe consists of 8 variables:\n",
    "\n",
    "    - InvoiceNo: The 6-digit integral number unique identifier of each customer invoice. Nominal. If this code starts with letter 'c', it indicates a cancellation. \n",
    "    - StockCode: The 5-digit integral number unique identifier of each item in stock. Nominal.\n",
    "    - Description: The item purchased by the customer. Nominal.\n",
    "    - Quantity: The number of each item purchased by a customer in a single invoice. Numeric.\n",
    "    - InvoiceDate: The purchase date. Numeric.\n",
    "    - UnitPrice: Price of one unit of each item. Numeric, Product price per unit in sterling.\n",
    "    - CustomerID: 5-digit Unique identifier assigned to each Customer.\n",
    "    - Country: The country from where the purchase was made. Nominal.\n"
   ]
  },
  {
   "cell_type": "markdown",
   "metadata": {},
   "source": [
    "## EDA - Exploratory Data Analysis"
   ]
  },
  {
   "cell_type": "code",
   "execution_count": 8,
   "metadata": {},
   "outputs": [
    {
     "data": {
      "text/plain": [
       "541909"
      ]
     },
     "execution_count": 8,
     "metadata": {},
     "output_type": "execute_result"
    }
   ],
   "source": [
    "# Shape of df\n",
    "df.count()\n",
    "\n",
    "# 541909 rows and 8 columns : (541909, 8)"
   ]
  },
  {
   "cell_type": "code",
   "execution_count": 9,
   "metadata": {},
   "outputs": [
    {
     "name": "stderr",
     "output_type": "stream",
     "text": [
      "                                                                                \r"
     ]
    },
    {
     "data": {
      "text/plain": [
       "4373"
      ]
     },
     "execution_count": 9,
     "metadata": {},
     "output_type": "execute_result"
    }
   ],
   "source": [
    "# number of unique customers\n",
    "df.select(\"CustomerID\").distinct().count()\n",
    "\n",
    "# There are 4373 customers who made purchase"
   ]
  },
  {
   "cell_type": "code",
   "execution_count": 10,
   "metadata": {},
   "outputs": [
    {
     "name": "stderr",
     "output_type": "stream",
     "text": [
      "                                                                                \r"
     ]
    },
    {
     "data": {
      "text/plain": [
       "406829"
      ]
     },
     "execution_count": 10,
     "metadata": {},
     "output_type": "execute_result"
    }
   ],
   "source": [
    "# Dropping Entire rows containing Null \n",
    "df=df.na.drop()\n",
    "df.count()\n",
    "\n",
    "#  new shape (406829, 8)"
   ]
  },
  {
   "cell_type": "code",
   "execution_count": 11,
   "metadata": {},
   "outputs": [
    {
     "name": "stderr",
     "output_type": "stream",
     "text": [
      "[Stage 14:=======>                                                  (1 + 7) / 8]\r"
     ]
    },
    {
     "name": "stdout",
     "output_type": "stream",
     "text": [
      "+--------------------+------+\n",
      "|             Country| count|\n",
      "+--------------------+------+\n",
      "|      United Kingdom|361878|\n",
      "|             Germany|  9495|\n",
      "|              France|  8491|\n",
      "|                EIRE|  7485|\n",
      "|               Spain|  2533|\n",
      "|         Netherlands|  2371|\n",
      "|             Belgium|  2069|\n",
      "|         Switzerland|  1877|\n",
      "|            Portugal|  1480|\n",
      "|           Australia|  1259|\n",
      "|              Norway|  1086|\n",
      "|               Italy|   803|\n",
      "|     Channel Islands|   758|\n",
      "|             Finland|   695|\n",
      "|              Cyprus|   622|\n",
      "|              Sweden|   462|\n",
      "|             Austria|   401|\n",
      "|             Denmark|   389|\n",
      "|               Japan|   358|\n",
      "|              Poland|   341|\n",
      "|                 USA|   291|\n",
      "|              Israel|   250|\n",
      "|         Unspecified|   244|\n",
      "|           Singapore|   229|\n",
      "|             Iceland|   182|\n",
      "|              Canada|   151|\n",
      "|              Greece|   146|\n",
      "|               Malta|   127|\n",
      "|United Arab Emirates|    68|\n",
      "|  European Community|    61|\n",
      "|                 RSA|    58|\n",
      "|             Lebanon|    45|\n",
      "|           Lithuania|    35|\n",
      "|              Brazil|    32|\n",
      "|      Czech Republic|    30|\n",
      "|             Bahrain|    17|\n",
      "|        Saudi Arabia|    10|\n",
      "+--------------------+------+\n",
      "\n"
     ]
    },
    {
     "name": "stderr",
     "output_type": "stream",
     "text": [
      "                                                                                \r"
     ]
    }
   ],
   "source": [
    "# value_count() for Country\n",
    "df.groupBy('Country').count().orderBy(desc('count')).show(200)"
   ]
  },
  {
   "cell_type": "code",
   "execution_count": 12,
   "metadata": {},
   "outputs": [
    {
     "name": "stderr",
     "output_type": "stream",
     "text": [
      "[Stage 17:=======>                                                  (1 + 7) / 8]\r"
     ]
    },
    {
     "name": "stdout",
     "output_type": "stream",
     "text": [
      "+--------------------+-------------+\n",
      "|             Country|country_count|\n",
      "+--------------------+-------------+\n",
      "|      United Kingdom|         3950|\n",
      "|             Germany|           95|\n",
      "|              France|           87|\n",
      "|               Spain|           31|\n",
      "|             Belgium|           25|\n",
      "|         Switzerland|           21|\n",
      "|            Portugal|           19|\n",
      "|               Italy|           15|\n",
      "|             Finland|           12|\n",
      "|             Austria|           11|\n",
      "|              Norway|           10|\n",
      "|             Denmark|            9|\n",
      "|     Channel Islands|            9|\n",
      "|           Australia|            9|\n",
      "|         Netherlands|            9|\n",
      "|              Sweden|            8|\n",
      "|              Cyprus|            8|\n",
      "|               Japan|            8|\n",
      "|              Poland|            6|\n",
      "|              Greece|            4|\n",
      "|         Unspecified|            4|\n",
      "|              Israel|            4|\n",
      "|                 USA|            4|\n",
      "|              Canada|            4|\n",
      "|                EIRE|            3|\n",
      "|               Malta|            2|\n",
      "|United Arab Emirates|            2|\n",
      "|             Bahrain|            2|\n",
      "|           Singapore|            1|\n",
      "|                 RSA|            1|\n",
      "|  European Community|            1|\n",
      "|           Lithuania|            1|\n",
      "|             Iceland|            1|\n",
      "|        Saudi Arabia|            1|\n",
      "|      Czech Republic|            1|\n",
      "|              Brazil|            1|\n",
      "|             Lebanon|            1|\n",
      "+--------------------+-------------+\n",
      "\n"
     ]
    },
    {
     "name": "stderr",
     "output_type": "stream",
     "text": [
      "                                                                                \r"
     ]
    }
   ],
   "source": [
    "# countrywise purchases\n",
    "df.groupBy(\"Country\").agg(countDistinct(\"CustomerID\").alias(\"country_count\")).orderBy(desc(\"country_count\")).show(40)"
   ]
  },
  {
   "cell_type": "markdown",
   "metadata": {},
   "source": [
    "Almost all the purchases on the platform were made from the United Kingdom, and only a handful were made from countries like Germany, Spain, and France. \n",
    "\n",
    "To sort the table in the order of purchases, we included the orderBy() clause"
   ]
  },
  {
   "cell_type": "code",
   "execution_count": 13,
   "metadata": {},
   "outputs": [
    {
     "name": "stderr",
     "output_type": "stream",
     "text": [
      "[Stage 23:=======>                                                  (1 + 7) / 8]\r"
     ]
    },
    {
     "name": "stdout",
     "output_type": "stream",
     "text": [
      "+-------------------+\n",
      "|          max(date)|\n",
      "+-------------------+\n",
      "|2011-12-09 12:50:00|\n",
      "+-------------------+\n",
      "\n"
     ]
    },
    {
     "name": "stderr",
     "output_type": "stream",
     "text": [
      "                                                                                \r"
     ]
    }
   ],
   "source": [
    "# latest purchase was made on the platform\n",
    "spark.sql(\"set spark.sql.legacy.timeParserPolicy=LEGACY\")\n",
    "df = df.withColumn('date', to_timestamp(\"InvoiceDate\", \"dd/MM/yy HH:mm\"))\n",
    "df.select(max(\"date\")).alias(\"LatestPurchase\").show()\n",
    "\n",
    "# 2011-12-09 12:50:00"
   ]
  },
  {
   "cell_type": "code",
   "execution_count": 14,
   "metadata": {},
   "outputs": [
    {
     "name": "stderr",
     "output_type": "stream",
     "text": [
      "[Stage 26:=======>                                                  (1 + 7) / 8]\r"
     ]
    },
    {
     "name": "stdout",
     "output_type": "stream",
     "text": [
      "+-------------------+\n",
      "|          min(date)|\n",
      "+-------------------+\n",
      "|2010-12-01 08:26:00|\n",
      "+-------------------+\n",
      "\n"
     ]
    },
    {
     "name": "stderr",
     "output_type": "stream",
     "text": [
      "                                                                                \r"
     ]
    }
   ],
   "source": [
    "df.select(min(\"date\")).alias(\"OldestPurchase\").show()\n",
    "\n",
    "# 2010-12-01 08:26:00"
   ]
  },
  {
   "cell_type": "markdown",
   "metadata": {},
   "source": [
    "Our min and max dates are within limits"
   ]
  },
  {
   "cell_type": "markdown",
   "metadata": {},
   "source": [
    "## Data Preprocessing\n",
    "\n",
    "- From the dataset above, we need to create multiple customer segments based on each user’s purchase behavior. \n",
    "\n",
    "The variables in this dataset are in a format that cannot be easily ingested into the customer segmentation model. These features individually do not tell us much about customer purchase behavior.\n",
    "\n",
    "Due to this, we will use the existing variables to derive three new informative features - recency, frequency, and monetary value (RFM).\n",
    "\n",
    "RFM is commonly used in marketing to evaluate a client’s value based on their:\n",
    "\n",
    "    Recency: How recently has each customer made a purchase?\n",
    "    Frequency: How often have they bought something?\n",
    "    Monetary Value: How much money do they spend on average when making purchases?\n",
    "\n",
    "We will now preprocess the dataframe to create the above variables.\n"
   ]
  },
  {
   "cell_type": "markdown",
   "metadata": {},
   "source": [
    "### Recency\n",
    "\n",
    "- calculate the value of recency - the latest date and time a purchase was made on the platform.\n",
    "- **step 1**: Assign a recency score to each customer\n",
    "- We will subtract every date in the dataframe from the earliest date. This will tell us how recently a customer was seen in the dataframe. A value of 0 indicates the lowest recency, as it will be assigned to the person who was seen making a purchase on the earliest date.\n",
    "- **step 2**: Select the most recent purchase\n",
    "- One customer can make multiple purchases at different times. We need to select only the last time they were seen buying a product, as this is indicative of when the most recent purchase was made."
   ]
  },
  {
   "cell_type": "code",
   "execution_count": 15,
   "metadata": {},
   "outputs": [
    {
     "name": "stdout",
     "output_type": "stream",
     "text": [
      "+---------+---------+--------------------+--------+--------------+---------+----------+--------------+-------------------+-------------------+\n",
      "|InvoiceNo|StockCode|         Description|Quantity|   InvoiceDate|UnitPrice|CustomerID|       Country|               date|          from_date|\n",
      "+---------+---------+--------------------+--------+--------------+---------+----------+--------------+-------------------+-------------------+\n",
      "|   536365|   85123A|WHITE HANGING HEA...|       6|01/12/10 08:26|     2.55|     17850|United Kingdom|2010-12-01 08:26:00|2010-12-01 08:26:00|\n",
      "|   536365|    71053| WHITE METAL LANTERN|       6|01/12/10 08:26|     3.39|     17850|United Kingdom|2010-12-01 08:26:00|2010-12-01 08:26:00|\n",
      "|   536365|   84406B|CREAM CUPID HEART...|       8|01/12/10 08:26|     2.75|     17850|United Kingdom|2010-12-01 08:26:00|2010-12-01 08:26:00|\n",
      "|   536365|   84029G|KNITTED UNION FLA...|       6|01/12/10 08:26|     3.39|     17850|United Kingdom|2010-12-01 08:26:00|2010-12-01 08:26:00|\n",
      "|   536365|   84029E|RED WOOLLY HOTTIE...|       6|01/12/10 08:26|     3.39|     17850|United Kingdom|2010-12-01 08:26:00|2010-12-01 08:26:00|\n",
      "|   536365|    22752|SET 7 BABUSHKA NE...|       2|01/12/10 08:26|     7.65|     17850|United Kingdom|2010-12-01 08:26:00|2010-12-01 08:26:00|\n",
      "|   536365|    21730|GLASS STAR FROSTE...|       6|01/12/10 08:26|     4.25|     17850|United Kingdom|2010-12-01 08:26:00|2010-12-01 08:26:00|\n",
      "|   536366|    22633|HAND WARMER UNION...|       6|01/12/10 08:28|     1.85|     17850|United Kingdom|2010-12-01 08:28:00|2010-12-01 08:26:00|\n",
      "|   536366|    22632|HAND WARMER RED P...|       6|01/12/10 08:28|     1.85|     17850|United Kingdom|2010-12-01 08:28:00|2010-12-01 08:26:00|\n",
      "|   536367|    84879|ASSORTED COLOUR B...|      32|01/12/10 08:34|     1.69|     13047|United Kingdom|2010-12-01 08:34:00|2010-12-01 08:26:00|\n",
      "|   536367|    22745|POPPY'S PLAYHOUSE...|       6|01/12/10 08:34|      2.1|     13047|United Kingdom|2010-12-01 08:34:00|2010-12-01 08:26:00|\n",
      "|   536367|    22748|POPPY'S PLAYHOUSE...|       6|01/12/10 08:34|      2.1|     13047|United Kingdom|2010-12-01 08:34:00|2010-12-01 08:26:00|\n",
      "|   536367|    22749|FELTCRAFT PRINCES...|       8|01/12/10 08:34|     3.75|     13047|United Kingdom|2010-12-01 08:34:00|2010-12-01 08:26:00|\n",
      "|   536367|    22310|IVORY KNITTED MUG...|       6|01/12/10 08:34|     1.65|     13047|United Kingdom|2010-12-01 08:34:00|2010-12-01 08:26:00|\n",
      "|   536367|    84969|BOX OF 6 ASSORTED...|       6|01/12/10 08:34|     4.25|     13047|United Kingdom|2010-12-01 08:34:00|2010-12-01 08:26:00|\n",
      "|   536367|    22623|BOX OF VINTAGE JI...|       3|01/12/10 08:34|     4.95|     13047|United Kingdom|2010-12-01 08:34:00|2010-12-01 08:26:00|\n",
      "|   536367|    22622|BOX OF VINTAGE AL...|       2|01/12/10 08:34|     9.95|     13047|United Kingdom|2010-12-01 08:34:00|2010-12-01 08:26:00|\n",
      "|   536367|    21754|HOME BUILDING BLO...|       3|01/12/10 08:34|     5.95|     13047|United Kingdom|2010-12-01 08:34:00|2010-12-01 08:26:00|\n",
      "|   536367|    21755|LOVE BUILDING BLO...|       3|01/12/10 08:34|     5.95|     13047|United Kingdom|2010-12-01 08:34:00|2010-12-01 08:26:00|\n",
      "|   536367|    21777|RECIPE BOX WITH M...|       4|01/12/10 08:34|     7.95|     13047|United Kingdom|2010-12-01 08:34:00|2010-12-01 08:26:00|\n",
      "+---------+---------+--------------------+--------+--------------+---------+----------+--------------+-------------------+-------------------+\n",
      "only showing top 20 rows\n",
      "\n",
      "None\n"
     ]
    }
   ],
   "source": [
    "df = df.withColumn(\"from_date\", lit(\"1/12/10 08:26\"))\n",
    "df = df.withColumn(\"from_date\", to_timestamp(\"from_date\", 'dd/MM/yy HH:mm'))\n",
    "\n",
    "print(df.show())"
   ]
  },
  {
   "cell_type": "code",
   "execution_count": 16,
   "metadata": {},
   "outputs": [
    {
     "name": "stdout",
     "output_type": "stream",
     "text": [
      "+---------+---------+--------------------+--------+--------------+---------+----------+--------------+-------------------+-------------------+-------+\n",
      "|InvoiceNo|StockCode|         Description|Quantity|   InvoiceDate|UnitPrice|CustomerID|       Country|               date|          from_date|recency|\n",
      "+---------+---------+--------------------+--------+--------------+---------+----------+--------------+-------------------+-------------------+-------+\n",
      "|   536365|   85123A|WHITE HANGING HEA...|       6|01/12/10 08:26|     2.55|     17850|United Kingdom|2010-12-01 08:26:00|2010-12-01 08:26:00|      0|\n",
      "|   536365|    71053| WHITE METAL LANTERN|       6|01/12/10 08:26|     3.39|     17850|United Kingdom|2010-12-01 08:26:00|2010-12-01 08:26:00|      0|\n",
      "|   536365|   84406B|CREAM CUPID HEART...|       8|01/12/10 08:26|     2.75|     17850|United Kingdom|2010-12-01 08:26:00|2010-12-01 08:26:00|      0|\n",
      "|   536365|   84029G|KNITTED UNION FLA...|       6|01/12/10 08:26|     3.39|     17850|United Kingdom|2010-12-01 08:26:00|2010-12-01 08:26:00|      0|\n",
      "|   536365|   84029E|RED WOOLLY HOTTIE...|       6|01/12/10 08:26|     3.39|     17850|United Kingdom|2010-12-01 08:26:00|2010-12-01 08:26:00|      0|\n",
      "|   536365|    22752|SET 7 BABUSHKA NE...|       2|01/12/10 08:26|     7.65|     17850|United Kingdom|2010-12-01 08:26:00|2010-12-01 08:26:00|      0|\n",
      "|   536365|    21730|GLASS STAR FROSTE...|       6|01/12/10 08:26|     4.25|     17850|United Kingdom|2010-12-01 08:26:00|2010-12-01 08:26:00|      0|\n",
      "|   536366|    22633|HAND WARMER UNION...|       6|01/12/10 08:28|     1.85|     17850|United Kingdom|2010-12-01 08:28:00|2010-12-01 08:26:00|    120|\n",
      "|   536366|    22632|HAND WARMER RED P...|       6|01/12/10 08:28|     1.85|     17850|United Kingdom|2010-12-01 08:28:00|2010-12-01 08:26:00|    120|\n",
      "|   536367|    84879|ASSORTED COLOUR B...|      32|01/12/10 08:34|     1.69|     13047|United Kingdom|2010-12-01 08:34:00|2010-12-01 08:26:00|    480|\n",
      "|   536367|    22745|POPPY'S PLAYHOUSE...|       6|01/12/10 08:34|      2.1|     13047|United Kingdom|2010-12-01 08:34:00|2010-12-01 08:26:00|    480|\n",
      "|   536367|    22748|POPPY'S PLAYHOUSE...|       6|01/12/10 08:34|      2.1|     13047|United Kingdom|2010-12-01 08:34:00|2010-12-01 08:26:00|    480|\n",
      "|   536367|    22749|FELTCRAFT PRINCES...|       8|01/12/10 08:34|     3.75|     13047|United Kingdom|2010-12-01 08:34:00|2010-12-01 08:26:00|    480|\n",
      "|   536367|    22310|IVORY KNITTED MUG...|       6|01/12/10 08:34|     1.65|     13047|United Kingdom|2010-12-01 08:34:00|2010-12-01 08:26:00|    480|\n",
      "|   536367|    84969|BOX OF 6 ASSORTED...|       6|01/12/10 08:34|     4.25|     13047|United Kingdom|2010-12-01 08:34:00|2010-12-01 08:26:00|    480|\n",
      "|   536367|    22623|BOX OF VINTAGE JI...|       3|01/12/10 08:34|     4.95|     13047|United Kingdom|2010-12-01 08:34:00|2010-12-01 08:26:00|    480|\n",
      "|   536367|    22622|BOX OF VINTAGE AL...|       2|01/12/10 08:34|     9.95|     13047|United Kingdom|2010-12-01 08:34:00|2010-12-01 08:26:00|    480|\n",
      "|   536367|    21754|HOME BUILDING BLO...|       3|01/12/10 08:34|     5.95|     13047|United Kingdom|2010-12-01 08:34:00|2010-12-01 08:26:00|    480|\n",
      "|   536367|    21755|LOVE BUILDING BLO...|       3|01/12/10 08:34|     5.95|     13047|United Kingdom|2010-12-01 08:34:00|2010-12-01 08:26:00|    480|\n",
      "|   536367|    21777|RECIPE BOX WITH M...|       4|01/12/10 08:34|     7.95|     13047|United Kingdom|2010-12-01 08:34:00|2010-12-01 08:26:00|    480|\n",
      "+---------+---------+--------------------+--------+--------------+---------+----------+--------------+-------------------+-------------------+-------+\n",
      "only showing top 20 rows\n",
      "\n",
      "None\n"
     ]
    }
   ],
   "source": [
    "df2 = df.withColumn(\"from_date\", to_timestamp(col('from_date'))).withColumn('recency', col(\"date\").cast('long') - col('from_date').cast('long'))\n",
    "\n",
    "print(df2.show())"
   ]
  },
  {
   "cell_type": "code",
   "execution_count": 19,
   "metadata": {},
   "outputs": [
    {
     "name": "stderr",
     "output_type": "stream",
     "text": [
      "[Stage 31:==============>                                           (2 + 6) / 8]\r"
     ]
    },
    {
     "name": "stdout",
     "output_type": "stream",
     "text": [
      "+-------+---------+---------+--------------------+--------+--------------+---------+----------+--------------+-------------------+-------------------+\n",
      "|recency|InvoiceNo|StockCode|         Description|Quantity|   InvoiceDate|UnitPrice|CustomerID|       Country|               date|          from_date|\n",
      "+-------+---------+---------+--------------------+--------+--------------+---------+----------+--------------+-------------------+-------------------+\n",
      "|   5220|   536384|    82484|WOOD BLACK BOARD ...|       3|01/12/10 09:53|     6.45|     18074|United Kingdom|2010-12-01 09:53:00|2010-12-01 08:26:00|\n",
      "|   5220|   536384|    84755|COLOUR GLASS T-LI...|      48|01/12/10 09:53|     0.65|     18074|United Kingdom|2010-12-01 09:53:00|2010-12-01 08:26:00|\n",
      "|   5220|   536384|    22464|HANGING METAL HEA...|      12|01/12/10 09:53|     1.65|     18074|United Kingdom|2010-12-01 09:53:00|2010-12-01 08:26:00|\n",
      "|   5220|   536384|    21324|HANGING MEDINA LA...|       6|01/12/10 09:53|     2.95|     18074|United Kingdom|2010-12-01 09:53:00|2010-12-01 08:26:00|\n",
      "|   5220|   536384|    22457|NATURAL SLATE HEA...|      12|01/12/10 09:53|     2.95|     18074|United Kingdom|2010-12-01 09:53:00|2010-12-01 08:26:00|\n",
      "|   5220|   536384|    22469|HEART OF WICKER S...|      40|01/12/10 09:53|     1.45|     18074|United Kingdom|2010-12-01 09:53:00|2010-12-01 08:26:00|\n",
      "|   5220|   536384|    22470|HEART OF WICKER L...|      40|01/12/10 09:53|     2.55|     18074|United Kingdom|2010-12-01 09:53:00|2010-12-01 08:26:00|\n",
      "|   5220|   536384|    22224|WHITE LOVEBIRD LA...|       6|01/12/10 09:53|     2.95|     18074|United Kingdom|2010-12-01 09:53:00|2010-12-01 08:26:00|\n",
      "|   5220|   536384|    21340|CLASSIC METAL BIR...|       2|01/12/10 09:53|    12.75|     18074|United Kingdom|2010-12-01 09:53:00|2010-12-01 08:26:00|\n",
      "|   5220|   536384|    22189|CREAM HEART CARD ...|       4|01/12/10 09:53|     3.95|     18074|United Kingdom|2010-12-01 09:53:00|2010-12-01 08:26:00|\n",
      "|   5220|   536384|    22427|ENAMEL FLOWER JUG...|       3|01/12/10 09:53|     5.95|     18074|United Kingdom|2010-12-01 09:53:00|2010-12-01 08:26:00|\n",
      "|   5220|   536384|    22428|ENAMEL FIRE BUCKE...|       6|01/12/10 09:53|     6.95|     18074|United Kingdom|2010-12-01 09:53:00|2010-12-01 08:26:00|\n",
      "|   5220|   536384|    22424|ENAMEL BREAD BIN ...|       8|01/12/10 09:53|    10.95|     18074|United Kingdom|2010-12-01 09:53:00|2010-12-01 08:26:00|\n",
      "|   7860|   536393|    22180|      RETROSPOT LAMP|       8|01/12/10 10:37|     9.95|     13747|United Kingdom|2010-12-01 10:37:00|2010-12-01 08:26:00|\n",
      "|  10860|   536403|    22867|HAND WARMER BIRD ...|      96|01/12/10 11:27|     1.85|     12791|   Netherlands|2010-12-01 11:27:00|2010-12-01 08:26:00|\n",
      "|  10860|   536403|     POST|             POSTAGE|       1|01/12/10 11:27|       15|     12791|   Netherlands|2010-12-01 11:27:00|2010-12-01 08:26:00|\n",
      "|  11940|   536409|   90199C|5 STRAND GLASS NE...|       3|01/12/10 11:45|     6.35|     17908|United Kingdom|2010-12-01 11:45:00|2010-12-01 08:26:00|\n",
      "|  11940|   536409|    21479|WHITE SKULL HOT W...|       1|01/12/10 11:45|     3.75|     17908|United Kingdom|2010-12-01 11:45:00|2010-12-01 08:26:00|\n",
      "|  11940|   536409|    22111|SCOTTIE DOG HOT W...|       1|01/12/10 11:45|     4.95|     17908|United Kingdom|2010-12-01 11:45:00|2010-12-01 08:26:00|\n",
      "|  11940|   536409|    22785|SQUARECUSHION COV...|       1|01/12/10 11:45|     6.75|     17908|United Kingdom|2010-12-01 11:45:00|2010-12-01 08:26:00|\n",
      "+-------+---------+---------+--------------------+--------+--------------+---------+----------+--------------+-------------------+-------------------+\n",
      "only showing top 20 rows\n",
      "\n"
     ]
    },
    {
     "name": "stderr",
     "output_type": "stream",
     "text": [
      "                                                                                \r"
     ]
    }
   ],
   "source": [
    "df2 = df2.join(df2.groupBy('CustomerID').agg(max('recency').alias('recency')), on='recency',how='leftsemi')\n",
    "df2.show()"
   ]
  },
  {
   "cell_type": "code",
   "execution_count": 20,
   "metadata": {},
   "outputs": [
    {
     "name": "stdout",
     "output_type": "stream",
     "text": [
      "root\n",
      " |-- recency: long (nullable = true)\n",
      " |-- InvoiceNo: string (nullable = true)\n",
      " |-- StockCode: string (nullable = true)\n",
      " |-- Description: string (nullable = true)\n",
      " |-- Quantity: string (nullable = true)\n",
      " |-- InvoiceDate: string (nullable = true)\n",
      " |-- UnitPrice: string (nullable = true)\n",
      " |-- CustomerID: string (nullable = true)\n",
      " |-- Country: string (nullable = true)\n",
      " |-- date: timestamp (nullable = true)\n",
      " |-- from_date: timestamp (nullable = true)\n",
      "\n"
     ]
    }
   ],
   "source": [
    "df2.printSchema()"
   ]
  },
  {
   "cell_type": "markdown",
   "metadata": {},
   "source": [
    "### Frequency: \n",
    "\n",
    "- calculate the value of frequency - how often a customer bought something on the platform\n",
    "- group by each customer ID and count the number of items they purchased\n",
    "- "
   ]
  },
  {
   "cell_type": "code",
   "execution_count": 21,
   "metadata": {},
   "outputs": [
    {
     "name": "stderr",
     "output_type": "stream",
     "text": [
      "[Stage 38:=======>                                                  (1 + 7) / 8]\r"
     ]
    },
    {
     "name": "stdout",
     "output_type": "stream",
     "text": [
      "+----------+----+\n",
      "|CustomerID|freq|\n",
      "+----------+----+\n",
      "|     17714|  10|\n",
      "|     17551|  43|\n",
      "|     13187|  37|\n",
      "|     15052|  30|\n",
      "|     17128|  14|\n",
      "|     14439|  32|\n",
      "|     18106|  39|\n",
      "|     17855|  17|\n",
      "|     12386|   2|\n",
      "|     13065|  14|\n",
      "|     16510|  13|\n",
      "|     17303|  53|\n",
      "|     15100|   1|\n",
      "|     13328|  17|\n",
      "|     15899|   4|\n",
      "|     16519|  13|\n",
      "|     15350|   5|\n",
      "|     18113|   1|\n",
      "|     13144|   3|\n",
      "|     15180|   6|\n",
      "+----------+----+\n",
      "only showing top 20 rows\n",
      "\n"
     ]
    },
    {
     "name": "stderr",
     "output_type": "stream",
     "text": [
      "                                                                                \r"
     ]
    }
   ],
   "source": [
    "freq_df = df2.groupBy('CustomerID').agg(count('InvoiceDate').alias('freq'))\n",
    "freq_df.show(20)"
   ]
  },
  {
   "cell_type": "code",
   "execution_count": 22,
   "metadata": {},
   "outputs": [
    {
     "name": "stderr",
     "output_type": "stream",
     "text": [
      "[Stage 44:=======>                                                  (1 + 7) / 8]\r"
     ]
    },
    {
     "name": "stdout",
     "output_type": "stream",
     "text": [
      "+----------+-------+---------+---------+--------------------+--------+--------------+---------+--------------+-------------------+-------------------+----+\n",
      "|CustomerID|recency|InvoiceNo|StockCode|         Description|Quantity|   InvoiceDate|UnitPrice|       Country|               date|          from_date|freq|\n",
      "+----------+-------+---------+---------+--------------------+--------+--------------+---------+--------------+-------------------+-------------------+----+\n",
      "|     18074|   5220|   536384|    82484|WOOD BLACK BOARD ...|       3|01/12/10 09:53|     6.45|United Kingdom|2010-12-01 09:53:00|2010-12-01 08:26:00|  13|\n",
      "|     18074|   5220|   536384|    84755|COLOUR GLASS T-LI...|      48|01/12/10 09:53|     0.65|United Kingdom|2010-12-01 09:53:00|2010-12-01 08:26:00|  13|\n",
      "|     18074|   5220|   536384|    22464|HANGING METAL HEA...|      12|01/12/10 09:53|     1.65|United Kingdom|2010-12-01 09:53:00|2010-12-01 08:26:00|  13|\n",
      "|     18074|   5220|   536384|    21324|HANGING MEDINA LA...|       6|01/12/10 09:53|     2.95|United Kingdom|2010-12-01 09:53:00|2010-12-01 08:26:00|  13|\n",
      "|     18074|   5220|   536384|    22457|NATURAL SLATE HEA...|      12|01/12/10 09:53|     2.95|United Kingdom|2010-12-01 09:53:00|2010-12-01 08:26:00|  13|\n",
      "|     18074|   5220|   536384|    22469|HEART OF WICKER S...|      40|01/12/10 09:53|     1.45|United Kingdom|2010-12-01 09:53:00|2010-12-01 08:26:00|  13|\n",
      "|     18074|   5220|   536384|    22470|HEART OF WICKER L...|      40|01/12/10 09:53|     2.55|United Kingdom|2010-12-01 09:53:00|2010-12-01 08:26:00|  13|\n",
      "|     18074|   5220|   536384|    22224|WHITE LOVEBIRD LA...|       6|01/12/10 09:53|     2.95|United Kingdom|2010-12-01 09:53:00|2010-12-01 08:26:00|  13|\n",
      "|     18074|   5220|   536384|    21340|CLASSIC METAL BIR...|       2|01/12/10 09:53|    12.75|United Kingdom|2010-12-01 09:53:00|2010-12-01 08:26:00|  13|\n",
      "|     18074|   5220|   536384|    22189|CREAM HEART CARD ...|       4|01/12/10 09:53|     3.95|United Kingdom|2010-12-01 09:53:00|2010-12-01 08:26:00|  13|\n",
      "|     18074|   5220|   536384|    22427|ENAMEL FLOWER JUG...|       3|01/12/10 09:53|     5.95|United Kingdom|2010-12-01 09:53:00|2010-12-01 08:26:00|  13|\n",
      "|     18074|   5220|   536384|    22428|ENAMEL FIRE BUCKE...|       6|01/12/10 09:53|     6.95|United Kingdom|2010-12-01 09:53:00|2010-12-01 08:26:00|  13|\n",
      "|     18074|   5220|   536384|    22424|ENAMEL BREAD BIN ...|       8|01/12/10 09:53|    10.95|United Kingdom|2010-12-01 09:53:00|2010-12-01 08:26:00|  13|\n",
      "|     13747|   7860|   536393|    22180|      RETROSPOT LAMP|       8|01/12/10 10:37|     9.95|United Kingdom|2010-12-01 10:37:00|2010-12-01 08:26:00|   1|\n",
      "|     12791|  10860|   536403|    22867|HAND WARMER BIRD ...|      96|01/12/10 11:27|     1.85|   Netherlands|2010-12-01 11:27:00|2010-12-01 08:26:00|   2|\n",
      "|     12791|  10860|   536403|     POST|             POSTAGE|       1|01/12/10 11:27|       15|   Netherlands|2010-12-01 11:27:00|2010-12-01 08:26:00|   2|\n",
      "|     17908|  11940|   536409|   90199C|5 STRAND GLASS NE...|       3|01/12/10 11:45|     6.35|United Kingdom|2010-12-01 11:45:00|2010-12-01 08:26:00|  58|\n",
      "|     17908|  11940|   536409|    21479|WHITE SKULL HOT W...|       1|01/12/10 11:45|     3.75|United Kingdom|2010-12-01 11:45:00|2010-12-01 08:26:00|  58|\n",
      "|     17908|  11940|   536409|    22111|SCOTTIE DOG HOT W...|       1|01/12/10 11:45|     4.95|United Kingdom|2010-12-01 11:45:00|2010-12-01 08:26:00|  58|\n",
      "|     17908|  11940|   536409|    22785|SQUARECUSHION COV...|       1|01/12/10 11:45|     6.75|United Kingdom|2010-12-01 11:45:00|2010-12-01 08:26:00|  58|\n",
      "+----------+-------+---------+---------+--------------------+--------+--------------+---------+--------------+-------------------+-------------------+----+\n",
      "only showing top 20 rows\n",
      "\n"
     ]
    },
    {
     "name": "stderr",
     "output_type": "stream",
     "text": [
      "                                                                                \r"
     ]
    }
   ],
   "source": [
    "df3 = df2.join(freq_df, on='CustomerID', how='inner')\n",
    "df3.show(20)"
   ]
  },
  {
   "cell_type": "code",
   "execution_count": 23,
   "metadata": {},
   "outputs": [
    {
     "name": "stdout",
     "output_type": "stream",
     "text": [
      "root\n",
      " |-- CustomerID: string (nullable = true)\n",
      " |-- recency: long (nullable = true)\n",
      " |-- InvoiceNo: string (nullable = true)\n",
      " |-- StockCode: string (nullable = true)\n",
      " |-- Description: string (nullable = true)\n",
      " |-- Quantity: string (nullable = true)\n",
      " |-- InvoiceDate: string (nullable = true)\n",
      " |-- UnitPrice: string (nullable = true)\n",
      " |-- Country: string (nullable = true)\n",
      " |-- date: timestamp (nullable = true)\n",
      " |-- from_date: timestamp (nullable = true)\n",
      " |-- freq: long (nullable = false)\n",
      "\n"
     ]
    }
   ],
   "source": [
    "df3.printSchema()"
   ]
  },
  {
   "cell_type": "markdown",
   "metadata": {},
   "source": [
    "### Monetary Value\n",
    "\n",
    "- calculate monetary value - the total amount spent by each customer in the dataframe\n",
    "- **step 1**: Find the total amount spent in each purchase\n",
    "- Each customerID comes with variables called “Quantity” and “UnitPrice” for a single purchase\n",
    "- **step 2**: Find the total amount spent by each customer\n",
    "- group by the CustomerID column and sum the total amount spent"
   ]
  },
  {
   "cell_type": "code",
   "execution_count": 24,
   "metadata": {},
   "outputs": [
    {
     "name": "stderr",
     "output_type": "stream",
     "text": [
      "[Stage 51:==============>                                           (2 + 6) / 8]\r"
     ]
    },
    {
     "name": "stdout",
     "output_type": "stream",
     "text": [
      "+----------+-------+---------+---------+--------------------+--------+--------------+---------+--------------+-------------------+-------------------+----+------------------+\n",
      "|CustomerID|recency|InvoiceNo|StockCode|         Description|Quantity|   InvoiceDate|UnitPrice|       Country|               date|          from_date|freq|       TotalAmount|\n",
      "+----------+-------+---------+---------+--------------------+--------+--------------+---------+--------------+-------------------+-------------------+----+------------------+\n",
      "|     18074|   5220|   536384|    82484|WOOD BLACK BOARD ...|       3|01/12/10 09:53|     6.45|United Kingdom|2010-12-01 09:53:00|2010-12-01 08:26:00|  13|             19.35|\n",
      "|     18074|   5220|   536384|    84755|COLOUR GLASS T-LI...|      48|01/12/10 09:53|     0.65|United Kingdom|2010-12-01 09:53:00|2010-12-01 08:26:00|  13|31.200000000000003|\n",
      "|     18074|   5220|   536384|    22464|HANGING METAL HEA...|      12|01/12/10 09:53|     1.65|United Kingdom|2010-12-01 09:53:00|2010-12-01 08:26:00|  13|19.799999999999997|\n",
      "|     18074|   5220|   536384|    21324|HANGING MEDINA LA...|       6|01/12/10 09:53|     2.95|United Kingdom|2010-12-01 09:53:00|2010-12-01 08:26:00|  13|17.700000000000003|\n",
      "|     18074|   5220|   536384|    22457|NATURAL SLATE HEA...|      12|01/12/10 09:53|     2.95|United Kingdom|2010-12-01 09:53:00|2010-12-01 08:26:00|  13|35.400000000000006|\n",
      "+----------+-------+---------+---------+--------------------+--------+--------------+---------+--------------+-------------------+-------------------+----+------------------+\n",
      "only showing top 5 rows\n",
      "\n"
     ]
    },
    {
     "name": "stderr",
     "output_type": "stream",
     "text": [
      "                                                                                \r"
     ]
    }
   ],
   "source": [
    "m_val = df3.withColumn(\"TotalAmount\", col(\"Quantity\") * col(\"UnitPrice\"))\n",
    "m_val.show(5)"
   ]
  },
  {
   "cell_type": "code",
   "execution_count": 25,
   "metadata": {},
   "outputs": [
    {
     "name": "stderr",
     "output_type": "stream",
     "text": [
      "                                                                                \r"
     ]
    },
    {
     "name": "stdout",
     "output_type": "stream",
     "text": [
      "+----------+------------------+\n",
      "|CustomerID|    monetary_value|\n",
      "+----------+------------------+\n",
      "|     17714|             153.0|\n",
      "|     17551|            306.84|\n",
      "|     13187|236.01999999999995|\n",
      "|     15052|            215.78|\n",
      "|     17128|            157.09|\n",
      "+----------+------------------+\n",
      "only showing top 5 rows\n",
      "\n"
     ]
    }
   ],
   "source": [
    "m_val = m_val.groupBy('CustomerID').agg(sum(\"TotalAmount\").alias(\"monetary_value\"))\n",
    "m_val.show(5)"
   ]
  },
  {
   "cell_type": "code",
   "execution_count": 26,
   "metadata": {},
   "outputs": [
    {
     "name": "stderr",
     "output_type": "stream",
     "text": [
      "                                                                                \r"
     ]
    },
    {
     "name": "stdout",
     "output_type": "stream",
     "text": [
      "+----------+--------------+-------+---------+---------+--------------------+--------+--------------+---------+--------------+-------------------+-------------------+----+\n",
      "|CustomerID|monetary_value|recency|InvoiceNo|StockCode|         Description|Quantity|   InvoiceDate|UnitPrice|       Country|               date|          from_date|freq|\n",
      "+----------+--------------+-------+---------+---------+--------------------+--------+--------------+---------+--------------+-------------------+-------------------+----+\n",
      "|     18074|         489.6|   5220|   536384|    82484|WOOD BLACK BOARD ...|       3|01/12/10 09:53|     6.45|United Kingdom|2010-12-01 09:53:00|2010-12-01 08:26:00|  13|\n",
      "|     18074|         489.6|   5220|   536384|    84755|COLOUR GLASS T-LI...|      48|01/12/10 09:53|     0.65|United Kingdom|2010-12-01 09:53:00|2010-12-01 08:26:00|  13|\n",
      "|     18074|         489.6|   5220|   536384|    22464|HANGING METAL HEA...|      12|01/12/10 09:53|     1.65|United Kingdom|2010-12-01 09:53:00|2010-12-01 08:26:00|  13|\n",
      "|     18074|         489.6|   5220|   536384|    21324|HANGING MEDINA LA...|       6|01/12/10 09:53|     2.95|United Kingdom|2010-12-01 09:53:00|2010-12-01 08:26:00|  13|\n",
      "|     18074|         489.6|   5220|   536384|    22457|NATURAL SLATE HEA...|      12|01/12/10 09:53|     2.95|United Kingdom|2010-12-01 09:53:00|2010-12-01 08:26:00|  13|\n",
      "+----------+--------------+-------+---------+---------+--------------------+--------+--------------+---------+--------------+-------------------+-------------------+----+\n",
      "only showing top 5 rows\n",
      "\n"
     ]
    }
   ],
   "source": [
    "finaldf = m_val.join(df3, on='CustomerID', how='inner')\n",
    "finaldf.show(5)"
   ]
  },
  {
   "cell_type": "code",
   "execution_count": 28,
   "metadata": {},
   "outputs": [
    {
     "name": "stderr",
     "output_type": "stream",
     "text": [
      "                                                                                \r"
     ]
    },
    {
     "name": "stdout",
     "output_type": "stream",
     "text": [
      "+----------+-------+----+------------------+\n",
      "|CustomerID|recency|freq|    monetary_value|\n",
      "+----------+-------+----+------------------+\n",
      "|     17714|4586760|  10|             153.0|\n",
      "|     17551|1230360|  43|            306.84|\n",
      "|     13187|3148260|  37|236.01999999999995|\n",
      "|     15052|4692360|  30|            215.78|\n",
      "|     17128|3382560|  14|            157.09|\n",
      "|     14439|4677180|  32|           2661.24|\n",
      "|     18106|3815820|  39| 430.6999999999999|\n",
      "|     17855|  91080|  17|208.96999999999997|\n",
      "|     12386|3125460|   2|             143.0|\n",
      "|     13065|  30360|  14|205.85999999999999|\n",
      "+----------+-------+----+------------------+\n",
      "only showing top 10 rows\n",
      "\n"
     ]
    }
   ],
   "source": [
    "finaldf = finaldf.select(['CustomerID', 'recency', 'freq', 'monetary_value']).distinct()\n",
    "finaldf.show(10)"
   ]
  },
  {
   "cell_type": "code",
   "execution_count": 29,
   "metadata": {},
   "outputs": [
    {
     "name": "stderr",
     "output_type": "stream",
     "text": [
      "                                                                                \r"
     ]
    },
    {
     "data": {
      "text/plain": [
       "4839"
      ]
     },
     "execution_count": 29,
     "metadata": {},
     "output_type": "execute_result"
    }
   ],
   "source": [
    "finaldf.count()"
   ]
  },
  {
   "cell_type": "markdown",
   "metadata": {},
   "source": [
    "### Standardization\n",
    "\n",
    "Before building the customer segmentation model, need to standardize the dataframe to ensure that all the variables are around the same scale"
   ]
  },
  {
   "cell_type": "code",
   "execution_count": 30,
   "metadata": {},
   "outputs": [
    {
     "name": "stderr",
     "output_type": "stream",
     "text": [
      "                                                                                \r"
     ]
    }
   ],
   "source": [
    "from pyspark.ml.feature import VectorAssembler\n",
    "from pyspark.ml.feature import StandardScaler\n",
    "\n",
    "assemble = VectorAssembler(inputCols= ['recency', 'freq', 'monetary_value'], outputCol='features')\n",
    "assembled_data = assemble.transform(finaldf)\n",
    "\n",
    "scale = StandardScaler(inputCol='features', outputCol='std_feats')\n",
    "data_scaled = scale.fit(assembled_data)\n",
    "data_scaled_output = data_scaled.transform(assembled_data)\n"
   ]
  },
  {
   "cell_type": "markdown",
   "metadata": {},
   "source": [
    "This code uses PySpark's machine learning library to perform feature engineering on a dataset.\n",
    "-  First, it imports the necessary modules for feature engineering: VectorAssembler and StandardScaler.\n",
    "-  Next, it creates a VectorAssembler object called assemble that takes in three input columns (recency, frequency, and monetary_value) and outputs a single column called features.\n",
    "-  This combines the three input columns into a single vector that can be used as input for machine learning algorithms.\n",
    "-  Then, it applies the assemble transformation to the finaldf dataset using the transform method, and stores the result in assembled_data.\n",
    "-  After that, it creates a StandardScaler object called scale that takes in the features column from assembled_data and outputs a new column called standardized.\n",
    "-  This scales the features column so that each feature has a mean of 0 and a standard deviation of 1.\n",
    "-  This is important for some machine learning algorithms that require standardized input.\n",
    "-  Finally, it applies the scale transformation to assembled_data using the fit and transform methods, and stores the result in data_scale_output.\n",
    "-  This gives us a new dataset where the features column has been standardized."
   ]
  },
  {
   "cell_type": "code",
   "execution_count": 31,
   "metadata": {},
   "outputs": [
    {
     "name": "stderr",
     "output_type": "stream",
     "text": [
      "                                                                                \r"
     ]
    },
    {
     "name": "stdout",
     "output_type": "stream",
     "text": [
      "+----------+-------+----+------------------+-----------------------------------+------------------------------------------------------------+\n",
      "|CustomerID|recency|freq|monetary_value    |features                           |std_feats                                                   |\n",
      "+----------+-------+----+------------------+-----------------------------------+------------------------------------------------------------+\n",
      "|17714     |4586760|10  |153.0             |[4586760.0,10.0,153.0]             |[0.5258889381294375,0.2581972844370304,0.054732953197303036]|\n",
      "|17551     |1230360|43  |306.84            |[1230360.0,43.0,306.84]            |[0.1410653083913121,1.1102483230792306,0.10976640103961086] |\n",
      "|13187     |3148260|37  |236.01999999999995|[3148260.0,37.0,236.01999999999995]|[0.3609596116551515,0.9553299524170125,0.08443184061194418] |\n",
      "|15052     |4692360|30  |215.78            |[4692360.0,30.0,215.78]            |[0.5379963673096144,0.7745918533110911,0.07719135059420947] |\n",
      "|17128     |3382560|14  |157.09            |[3382560.0,14.0,157.09]            |[0.3878229701486692,0.36147619821184257,0.05619607593310022]|\n",
      "+----------+-------+----+------------------+-----------------------------------+------------------------------------------------------------+\n",
      "only showing top 5 rows\n",
      "\n"
     ]
    }
   ],
   "source": [
    "data_scaled_output.show(5, truncate=False)"
   ]
  },
  {
   "cell_type": "code",
   "execution_count": 32,
   "metadata": {},
   "outputs": [
    {
     "name": "stderr",
     "output_type": "stream",
     "text": [
      "                                                                                \r"
     ]
    },
    {
     "name": "stdout",
     "output_type": "stream",
     "text": [
      "+---------------------------------------------------------------+\n",
      "|std_feats                                                      |\n",
      "+---------------------------------------------------------------+\n",
      "|[0.5258889381294375,0.2581972844370304,0.054732953197303036]   |\n",
      "|[0.1410653083913121,1.1102483230792306,0.10976640103961086]    |\n",
      "|[0.3609596116551515,0.9553299524170125,0.08443184061194418]    |\n",
      "|[0.5379963673096144,0.7745918533110911,0.07719135059420947]    |\n",
      "|[0.3878229701486692,0.36147619821184257,0.05619607593310022]   |\n",
      "|[0.5362559243649639,0.8262313101984973,0.9520099631816387]     |\n",
      "|[0.43749782589302033,1.0069694093044186,0.15407505190900922]   |\n",
      "|[0.010442657667902651,0.4389353835429517,0.0747551975793491]   |\n",
      "|[0.3583455076276133,0.05163945688740608,0.05115563599486493]   |\n",
      "|[0.0034808858893008838,0.36147619821184257,0.07364265192939086]|\n",
      "|[0.012059274632301283,0.3356564697681395,0.08875323979248943]  |\n",
      "|[0.12097798270601846,1.3684456075162612,0.0894472393297624]    |\n",
      "|[0.4295592047146543,0.02581972844370304,-0.011751487010009179] |\n",
      "|[0.5675082259362958,0.4389353835429517,0.46808480130462143]    |\n",
      "|[0.05042469084698711,0.10327891377481216,0.02012240926371435]  |\n",
      "|[0.08160132098594285,0.3356564697681395,0.07694093839003881]   |\n",
      "|[0.002111920885405872,0.1290986422185152,0.04137167344619671]  |\n",
      "|[0.05121580127637367,0.02581972844370304,0.027302084889007636] |\n",
      "|[0.4073118035960791,0.07745918533110913,0.039690334361050794]  |\n",
      "|[0.06212624598078316,0.15491837066221825,0.03130152552133344]  |\n",
      "|[0.22047215783834787,0.5422142973177638,0.10746976339564557]   |\n",
      "|[0.48639532965023513,0.02581972844370304,0.027302084889007636] |\n",
      "|[0.1609531366639778,0.28401701288073344,0.06816577929245812]   |\n",
      "|[0.49752590943064784,0.28401701288073344,0.08070427608700369]  |\n",
      "|[0.3881256558781736,0.23237755599332735,0.04078141610779443]   |\n",
      "+---------------------------------------------------------------+\n",
      "only showing top 25 rows\n",
      "\n"
     ]
    }
   ],
   "source": [
    "data_scaled_output.select('std_feats').show(25, truncate=False)"
   ]
  },
  {
   "cell_type": "code",
   "execution_count": 33,
   "metadata": {},
   "outputs": [
    {
     "name": "stdout",
     "output_type": "stream",
     "text": [
      "root\n",
      " |-- CustomerID: string (nullable = true)\n",
      " |-- recency: long (nullable = true)\n",
      " |-- freq: long (nullable = false)\n",
      " |-- monetary_value: double (nullable = true)\n",
      " |-- features: vector (nullable = true)\n",
      " |-- std_feats: vector (nullable = true)\n",
      "\n"
     ]
    }
   ],
   "source": [
    "data_scaled_output.printSchema()"
   ]
  },
  {
   "cell_type": "markdown",
   "metadata": {},
   "source": [
    "## Model Building\n",
    "### Finding number of clusters to build\n",
    "\n",
    "- When building a K-Means clustering model, we first need to determine the number of clusters or groups we want the algorithm to return using `Elbow Method`"
   ]
  },
  {
   "cell_type": "code",
   "execution_count": 37,
   "metadata": {},
   "outputs": [
    {
     "name": "stdout",
     "output_type": "stream",
     "text": [
      "Attempting KMeans with k=2\n"
     ]
    },
    {
     "name": "stderr",
     "output_type": "stream",
     "text": [
      "                                                                                \r"
     ]
    },
    {
     "name": "stdout",
     "output_type": "stream",
     "text": [
      "Attempting KMeans with k=3\n"
     ]
    },
    {
     "name": "stderr",
     "output_type": "stream",
     "text": [
      "                                                                                \r"
     ]
    },
    {
     "name": "stdout",
     "output_type": "stream",
     "text": [
      "Attempting KMeans with k=4\n"
     ]
    },
    {
     "name": "stderr",
     "output_type": "stream",
     "text": [
      "                                                                                \r"
     ]
    },
    {
     "name": "stdout",
     "output_type": "stream",
     "text": [
      "Attempting KMeans with k=5\n"
     ]
    },
    {
     "name": "stderr",
     "output_type": "stream",
     "text": [
      "                                                                                \r"
     ]
    },
    {
     "name": "stdout",
     "output_type": "stream",
     "text": [
      "Attempting KMeans with k=6\n"
     ]
    },
    {
     "name": "stderr",
     "output_type": "stream",
     "text": [
      "                                                                                \r"
     ]
    },
    {
     "name": "stdout",
     "output_type": "stream",
     "text": [
      "Attempting KMeans with k=7\n"
     ]
    },
    {
     "name": "stderr",
     "output_type": "stream",
     "text": [
      "                                                                                \r"
     ]
    },
    {
     "name": "stdout",
     "output_type": "stream",
     "text": [
      "Attempting KMeans with k=8\n"
     ]
    },
    {
     "name": "stderr",
     "output_type": "stream",
     "text": [
      "                                                                                \r"
     ]
    },
    {
     "name": "stdout",
     "output_type": "stream",
     "text": [
      "Attempting KMeans with k=9\n"
     ]
    },
    {
     "name": "stderr",
     "output_type": "stream",
     "text": [
      "                                                                                \r"
     ]
    }
   ],
   "source": [
    "from pyspark.ml.clustering import KMeans\n",
    "from pyspark.ml.evaluation import ClusteringEvaluator\n",
    "import numpy as np\n",
    "\n",
    "cost = np.zeros(10)\n",
    "\n",
    "evaluator = ClusteringEvaluator(predictionCol='prediction', featuresCol='std_feats', metricName='silhoutte', distanceMeasure='squaredEuclidean')\n",
    "\n",
    "for i in range(2, 10):\n",
    "    KMeans_algo = KMeans(featuresCol='std_feats', k=i)\n",
    "    print(f\"Attempting KMeans with k={i}\")\n",
    "    try:\n",
    "        KMeans_fit = KMeans_algo.fit(data_scaled_output)\n",
    "        output = KMeans_fit.transform(data_scaled_output)\n",
    "        cost[i] = KMeans_fit.summary.trainingCost\n",
    "    except Exception as e:\n",
    "        print(f\"Error occurred: {str(e)}\")"
   ]
  },
  {
   "cell_type": "markdown",
   "metadata": {},
   "source": [
    "This code imports the necessary libraries for performing KMeans clustering using PySpark.\n",
    "-  It then initializes an array of zeros with length 10 to store the cost of each KMeans model.\n",
    "-  Next, it creates an instance of the ClusteringEvaluator class, which will be used to evaluate the quality of the clustering results.\n",
    "-  The evaluator is configured to use the silhouette metric with squared Euclidean distance.\n",
    "-  The code then enters a loop that iterates over values of k from 2 to 9.\n",
    "-  For each value of k, a KMeans algorithm is created with the specified number of clusters and the standardized features column.\n",
    "-  The algorithm is then fit to the data and used to transform the data to obtain the cluster assignments.\n",
    "-  Finally, the training cost of the KMeans model is stored in the cost array at the index corresponding to the current value of k.\n",
    "-  The training cost is a measure of how well the model fits the data, and is calculated as the sum of squared distances between each point and its assigned cluster center."
   ]
  },
  {
   "cell_type": "code",
   "execution_count": 38,
   "metadata": {},
   "outputs": [
    {
     "data": {
      "image/png": "[encoded data removed]",
      "text/plain": [
       "<Figure size 640x480 with 1 Axes>"
      ]
     },
     "metadata": {},
     "output_type": "display_data"
    }
   ],
   "source": [
    "import pandas as pd\n",
    "import pylab as pl\n",
    "df_cost = pd.DataFrame(cost[2:])\n",
    "df_cost.columns = [\"cost\"]\n",
    "new_col = range(2,10)\n",
    "df_cost.insert(0, 'cluster', new_col)\n",
    "pl.plot(df_cost.cluster, df_cost.cost)\n",
    "pl.xlabel('Number of Clusters')\n",
    "pl.ylabel('Score')\n",
    "pl.title('Elbow Curve')\n",
    "pl.show()"
   ]
  },
  {
   "cell_type": "code",
   "execution_count": 39,
   "metadata": {},
   "outputs": [
    {
     "name": "stderr",
     "output_type": "stream",
     "text": [
      "                                                                                \r"
     ]
    }
   ],
   "source": [
    "KMeans_algo=KMeans(featuresCol='std_feats', k=4)\n",
    "KMeans_fit=KMeans_algo.fit(data_scaled_output)"
   ]
  },
  {
   "cell_type": "code",
   "execution_count": 40,
   "metadata": {},
   "outputs": [
    {
     "name": "stderr",
     "output_type": "stream",
     "text": [
      "                                                                                \r"
     ]
    },
    {
     "name": "stdout",
     "output_type": "stream",
     "text": [
      "+----------+-------+----+------------------+-----------------------------------+------------------------------------------------------------+----------+\n",
      "|CustomerID|recency|freq|monetary_value    |features                           |std_feats                                                   |prediction|\n",
      "+----------+-------+----+------------------+-----------------------------------+------------------------------------------------------------+----------+\n",
      "|17714     |4586760|10  |153.0             |[4586760.0,10.0,153.0]             |[0.5258889381294375,0.2581972844370304,0.054732953197303036]|0         |\n",
      "|17551     |1230360|43  |306.84            |[1230360.0,43.0,306.84]            |[0.1410653083913121,1.1102483230792306,0.10976640103961086] |0         |\n",
      "|13187     |3148260|37  |236.01999999999995|[3148260.0,37.0,236.01999999999995]|[0.3609596116551515,0.9553299524170125,0.08443184061194418] |0         |\n",
      "|15052     |4692360|30  |215.78            |[4692360.0,30.0,215.78]            |[0.5379963673096144,0.7745918533110911,0.07719135059420947] |0         |\n",
      "|17128     |3382560|14  |157.09            |[3382560.0,14.0,157.09]            |[0.3878229701486692,0.36147619821184257,0.05619607593310022]|0         |\n",
      "+----------+-------+----+------------------+-----------------------------------+------------------------------------------------------------+----------+\n",
      "only showing top 5 rows\n",
      "\n"
     ]
    }
   ],
   "source": [
    "preds=KMeans_fit.transform(data_scaled_output)\n",
    "\n",
    "preds.show(5,0)"
   ]
  },
  {
   "cell_type": "code",
   "execution_count": 41,
   "metadata": {},
   "outputs": [
    {
     "name": "stderr",
     "output_type": "stream",
     "text": [
      "                                                                                \r"
     ]
    },
    {
     "data": {
      "image/png": "[encoded data removed]",
      "text/plain": [
       "<Figure size 640x480 with 1 Axes>"
      ]
     },
     "metadata": {},
     "output_type": "display_data"
    },
    {
     "data": {
      "image/png": "[encoded data removed]",
      "text/plain": [
       "<Figure size 640x480 with 1 Axes>"
      ]
     },
     "metadata": {},
     "output_type": "display_data"
    },
    {
     "data": {
      "image/png": "[encoded data removed]",
      "text/plain": [
       "<Figure size 640x480 with 1 Axes>"
      ]
     },
     "metadata": {},
     "output_type": "display_data"
    }
   ],
   "source": [
    "import matplotlib.pyplot as plt\n",
    "import seaborn as sns\n",
    "\n",
    "df_viz = preds.select('recency','freq','monetary_value','prediction')\n",
    "df_viz = df_viz.toPandas()\n",
    "avg_df = df_viz.groupby(['prediction'], as_index=False).mean()\n",
    "\n",
    "list1 = ['recency','freq','monetary_value']\n",
    "\n",
    "for i in list1:\n",
    "    sns.barplot(x='prediction',y=str(i),data=avg_df)\n",
    "    plt.show()"
   ]
  },
  {
   "cell_type": "markdown",
   "metadata": {},
   "source": [
    "Here is an overview of characteristics displayed by customers in each cluster:\n",
    "\n",
    "- Cluster 0: Customers in this segment display lowest recency, frequency, and monetary value. They rarely shop on the platform and are low potential customers who are likely to stop doing business with the ecommerce company.\n",
    "\n",
    "- Cluster 1: Users in this cluster display high recency but haven’t been seen spending much on the platform. They also don’t visit the site often. This indicates that they might be newer customers who have just started doing business with the company.\n",
    "\n",
    "- Cluster 2: Customers in this segment display high recency and frequency and spend a medium money on the platform. This indicates that they tend to buy high-value items or make bulk purchases.\n",
    "\n",
    "- Cluster 3: The final segment comprises users who display high recency and make frequent purchases on the platform. However, they don’t spend much on the platform, which might mean that they tend to select cheaper items in each purchase.\n"
   ]
  },
  {
   "cell_type": "code",
   "execution_count": null,
   "metadata": {},
   "outputs": [],
   "source": ["spark.stop()"]
  },
  {
   "cell_type": "code",
   "execution_count": null,
   "metadata": {},
   "outputs": [],
   "source": []
  }
 ],
 "metadata": {
  "kernelspec": {
   "display_name": "Python 3",
   "language": "python",
   "name": "python3"
  },
  "language_info": {
   "codemirror_mode": {
    "name": "ipython",
    "version": 3
   },
   "file_extension": ".py",
   "mimetype": "text/x-python",
   "name": "python",
   "nbconvert_exporter": "python",
   "pygments_lexer": "ipython3",
   "version": "3.8.10"
  },
  "orig_nbformat": 4
 },
 "nbformat": 4,
 "nbformat_minor": 2
}
